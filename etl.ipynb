{
 "cells": [
  {
   "cell_type": "code",
   "execution_count": 1,
   "metadata": {
    "scrolled": true
   },
   "outputs": [
    {
     "name": "stdout",
     "output_type": "stream",
     "text": [
      "> Starting\n",
      "> Spark session created\n",
      "> Processing song data\n",
      "Song data load to df\n",
      "Song table selected\n",
      "Song table duplicates removed\n",
      "Song table writing to parquet\n",
      "Writing to parquet completed!\n",
      "Artists table selected\n",
      "Artist table columns renamed\n",
      "Artists table duplicates removed\n",
      "Artists table writing to parquet\n",
      "Writing to parquet completed!\n",
      "> Processing log data\n",
      "Log data load to df\n",
      "Log df filtered NextSong only\n",
      "Log df columns renamed\n",
      "Users table selected\n",
      "Opening window on users table\n",
      "Window completed\n",
      "Users table writing to parquet\n",
      "Writing to parquet completed!\n",
      "Extract from datetime starting\n",
      "Extract from datetime completed\n",
      "Time table selected\n",
      "Time table duplicates removed\n",
      "Time table writing to parquet\n",
      "Writing to parquet completed!\n",
      "Songplay table writing to parquet\n",
      "Writing to parquet completed!\n",
      "> Finished!\n"
     ]
    }
   ],
   "source": [
    "%run etl.py"
   ]
  },
  {
   "cell_type": "code",
   "execution_count": null,
   "metadata": {},
   "outputs": [],
   "source": []
  }
 ],
 "metadata": {
  "kernelspec": {
   "display_name": "Python 3",
   "language": "python",
   "name": "python3"
  },
  "language_info": {
   "codemirror_mode": {
    "name": "ipython",
    "version": 3
   },
   "file_extension": ".py",
   "mimetype": "text/x-python",
   "name": "python",
   "nbconvert_exporter": "python",
   "pygments_lexer": "ipython3",
   "version": "3.6.3"
  }
 },
 "nbformat": 4,
 "nbformat_minor": 2
}
